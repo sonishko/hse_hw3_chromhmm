{
  "nbformat": 4,
  "nbformat_minor": 0,
  "metadata": {
    "colab": {
      "provenance": []
    },
    "kernelspec": {
      "name": "python3",
      "display_name": "Python 3"
    },
    "language_info": {
      "name": "python"
    }
  },
  "cells": [
    {
      "cell_type": "code",
      "execution_count": 1,
      "metadata": {
        "id": "Vlfe_SQxkY0z"
      },
      "outputs": [],
      "source": [
        "import subprocess"
      ]
    },
    {
      "cell_type": "markdown",
      "source": [
        "Устанавливаем java и ChromHmm"
      ],
      "metadata": {
        "id": "Pc9zG_-Tkjrq"
      }
    },
    {
      "cell_type": "code",
      "source": [
        "!curl -O https://raw.githubusercontent.com/deepjavalibrary/d2l-java/master/tools/fix-colab-gpu.sh && bash fix-colab-gpu.sh"
      ],
      "metadata": {
        "colab": {
          "base_uri": "https://localhost:8080/"
        },
        "id": "1O3GJ3Gys7Tm",
        "outputId": "bc3722ec-a2e4-4e4c-c5b3-a645f75ccd76"
      },
      "execution_count": 21,
      "outputs": [
        {
          "output_type": "stream",
          "name": "stdout",
          "text": [
            "  % Total    % Received % Xferd  Average Speed   Time    Time     Time  Current\n",
            "                                 Dload  Upload   Total   Spent    Left  Speed\n",
            "\r  0     0    0     0    0     0      0      0 --:--:-- --:--:-- --:--:--     0\r  0     0    0     0    0     0      0      0 --:--:-- --:--:-- --:--:--     0\r100   155  100   155    0     0   1156      0 --:--:-- --:--:-- --:--:--  1148\n",
            "ln: failed to create symbolic link '/usr/lib64-nvidia': File exists\n",
            "fix-colab-gpu.sh: line 5: nvcc: command not found\n"
          ]
        }
      ]
    },
    {
      "cell_type": "code",
      "source": [
        "!curl -O https://raw.githubusercontent.com/deepjavalibrary/d2l-java/master/tools/colab_build.sh && bash colab_build.sh"
      ],
      "metadata": {
        "colab": {
          "base_uri": "https://localhost:8080/"
        },
        "id": "TvU64NMFk2kR",
        "outputId": "a6c641ab-3e9e-46d8-9ce1-07e6089c5ffc"
      },
      "execution_count": 4,
      "outputs": [
        {
          "output_type": "stream",
          "name": "stdout",
          "text": [
            "  % Total    % Received % Xferd  Average Speed   Time    Time     Time  Current\n",
            "                                 Dload  Upload   Total   Spent    Left  Speed\n",
            "\r  0     0    0     0    0     0      0      0 --:--:-- --:--:-- --:--:--     0\r100   520  100   520    0     0   3611      0 --:--:-- --:--:-- --:--:--  3611\n",
            "Update environment...\n",
            "Install Java...\n",
            "Install Jupyter java kernel...\n"
          ]
        }
      ]
    },
    {
      "cell_type": "code",
      "source": [
        "!java --list-modules | grep \"jdk.jshell\""
      ],
      "metadata": {
        "colab": {
          "base_uri": "https://localhost:8080/"
        },
        "id": "TAPZuhRVlAUz",
        "outputId": "71075614-791e-419f-df11-435c75566c08"
      },
      "execution_count": 5,
      "outputs": [
        {
          "output_type": "stream",
          "name": "stdout",
          "text": [
            "jdk.jshell@11.0.18\n"
          ]
        }
      ]
    },
    {
      "cell_type": "code",
      "source": [
        "! wget http://compbio.mit.edu/ChromHMM/ChromHMM.zip"
      ],
      "metadata": {
        "colab": {
          "base_uri": "https://localhost:8080/"
        },
        "id": "K4I0mXkRlBaQ",
        "outputId": "f1a746a3-d197-41de-fb50-271034153089"
      },
      "execution_count": 6,
      "outputs": [
        {
          "output_type": "stream",
          "name": "stdout",
          "text": [
            "--2023-04-03 10:05:39--  http://compbio.mit.edu/ChromHMM/ChromHMM.zip\n",
            "Resolving compbio.mit.edu (compbio.mit.edu)... 128.30.2.44\n",
            "Connecting to compbio.mit.edu (compbio.mit.edu)|128.30.2.44|:80... connected.\n",
            "HTTP request sent, awaiting response... 200 OK\n",
            "Length: 48940646 (47M) [application/zip]\n",
            "Saving to: ‘ChromHMM.zip’\n",
            "\n",
            "ChromHMM.zip        100%[===================>]  46.67M  5.12MB/s    in 11s     \n",
            "\n",
            "2023-04-03 10:05:50 (4.30 MB/s) - ‘ChromHMM.zip’ saved [48940646/48940646]\n",
            "\n"
          ]
        }
      ]
    },
    {
      "cell_type": "code",
      "source": [
        "!unzip /content/ChromHMM.zip"
      ],
      "metadata": {
        "colab": {
          "base_uri": "https://localhost:8080/"
        },
        "id": "1-9kOWLJlFxr",
        "outputId": "1a4a2dd9-6fac-47c2-f28d-ced07782e5a1"
      },
      "execution_count": 7,
      "outputs": [
        {
          "output_type": "stream",
          "name": "stdout",
          "text": [
            "Archive:  /content/ChromHMM.zip\n",
            "   creating: ChromHMM/ANCHORFILES/\n",
            "   creating: ChromHMM/ANCHORFILES/ce10/\n",
            "  inflating: ChromHMM/ANCHORFILES/ce10/RefSeqTES.ce10.txt.gz  \n",
            "  inflating: ChromHMM/ANCHORFILES/ce10/RefSeqTSS.ce10.txt.gz  \n",
            "   creating: ChromHMM/ANCHORFILES/ce11/\n",
            "  inflating: ChromHMM/ANCHORFILES/ce11/RefSeqTES.ce11.txt.gz  \n",
            "  inflating: ChromHMM/ANCHORFILES/ce11/RefSeqTSS.ce11.txt.gz  \n",
            "   creating: ChromHMM/ANCHORFILES/ce6/\n",
            "  inflating: ChromHMM/ANCHORFILES/ce6/RefSeqTES.ce6.txt.gz  \n",
            "  inflating: ChromHMM/ANCHORFILES/ce6/RefSeqTSS.ce6.txt.gz  \n",
            "   creating: ChromHMM/ANCHORFILES/danRer10/\n",
            "  inflating: ChromHMM/ANCHORFILES/danRer10/RefSeqTES.danRer10.txt.gz  \n",
            "  inflating: ChromHMM/ANCHORFILES/danRer10/RefSeqTSS.danRer10.txt.gz  \n",
            "   creating: ChromHMM/ANCHORFILES/danRer11/\n",
            "  inflating: ChromHMM/ANCHORFILES/danRer11/RefSeqTES.danRer11.txt.gz  \n",
            "  inflating: ChromHMM/ANCHORFILES/danRer11/RefSeqTSS.danRer11.txt.gz  \n",
            "   creating: ChromHMM/ANCHORFILES/danRer7/\n",
            "  inflating: ChromHMM/ANCHORFILES/danRer7/RefSeqTES.danRer7.txt.gz  \n",
            "  inflating: ChromHMM/ANCHORFILES/danRer7/RefSeqTSS.danRer7.txt.gz  \n",
            "   creating: ChromHMM/ANCHORFILES/dm3/\n",
            "  inflating: ChromHMM/ANCHORFILES/dm3/RefSeqTES.dm3.txt.gz  \n",
            "  inflating: ChromHMM/ANCHORFILES/dm3/RefSeqTSS.dm3.txt.gz  \n",
            "   creating: ChromHMM/ANCHORFILES/dm6/\n",
            "  inflating: ChromHMM/ANCHORFILES/dm6/RefSeqTES.dm6.txt.gz  \n",
            "  inflating: ChromHMM/ANCHORFILES/dm6/RefSeqTSS.dm6.txt.gz  \n",
            "   creating: ChromHMM/ANCHORFILES/hg18/\n",
            "  inflating: ChromHMM/ANCHORFILES/hg18/RefSeqTES.hg18.txt.gz  \n",
            "  inflating: ChromHMM/ANCHORFILES/hg18/RefSeqTSS.hg18.txt.gz  \n",
            "   creating: ChromHMM/ANCHORFILES/hg19/\n",
            "  inflating: ChromHMM/ANCHORFILES/hg19/RefSeqTES.hg19.txt.gz  \n",
            "  inflating: ChromHMM/ANCHORFILES/hg19/RefSeqTSS.hg19.txt.gz  \n",
            "   creating: ChromHMM/ANCHORFILES/hg38/\n",
            "  inflating: ChromHMM/ANCHORFILES/hg38/RefSeqTES.hg38.txt.gz  \n",
            "  inflating: ChromHMM/ANCHORFILES/hg38/RefSeqTSS.hg38.txt.gz  \n",
            "   creating: ChromHMM/ANCHORFILES/hs1/\n",
            "  inflating: ChromHMM/ANCHORFILES/hs1/RefSeqTES.hs1.txt.gz  \n",
            "  inflating: ChromHMM/ANCHORFILES/hs1/RefSeqTSS.hs1.txt.gz  \n",
            "   creating: ChromHMM/ANCHORFILES/mm10/\n",
            "  inflating: ChromHMM/ANCHORFILES/mm10/RefSeqTES.mm10.txt.gz  \n",
            "  inflating: ChromHMM/ANCHORFILES/mm10/RefSeqTSS.mm10.txt.gz  \n",
            "   creating: ChromHMM/ANCHORFILES/mm39/\n",
            "  inflating: ChromHMM/ANCHORFILES/mm39/RefSeqTES.mm39.txt.gz  \n",
            "  inflating: ChromHMM/ANCHORFILES/mm39/RefSeqTSS.mm39.txt.gz  \n",
            "   creating: ChromHMM/ANCHORFILES/mm9/\n",
            "  inflating: ChromHMM/ANCHORFILES/mm9/RefSeqTES.mm9.txt.gz  \n",
            "  inflating: ChromHMM/ANCHORFILES/mm9/RefSeqTSS.mm9.txt.gz  \n",
            "   creating: ChromHMM/ANCHORFILES/rn5/\n",
            "  inflating: ChromHMM/ANCHORFILES/rn5/RefSeqTES.rn5.txt.gz  \n",
            "  inflating: ChromHMM/ANCHORFILES/rn5/RefSeqTSS.rn5.txt.gz  \n",
            "   creating: ChromHMM/ANCHORFILES/rn6/\n",
            "  inflating: ChromHMM/ANCHORFILES/rn6/RefSeqTES.rn6.txt.gz  \n",
            "  inflating: ChromHMM/ANCHORFILES/rn6/RefSeqTSS.rn6.txt.gz  \n",
            "  inflating: ChromHMM/ChromHMM.jar   \n",
            "  inflating: ChromHMM/ChromHMM_manual.pdf  \n",
            "   creating: ChromHMM/CHROMSIZES/\n",
            "  inflating: ChromHMM/CHROMSIZES/ce10.txt  \n",
            "  inflating: ChromHMM/CHROMSIZES/ce11.txt  \n",
            "  inflating: ChromHMM/CHROMSIZES/ce6.txt  \n",
            "  inflating: ChromHMM/CHROMSIZES/danRer10.txt  \n",
            "  inflating: ChromHMM/CHROMSIZES/danRer11.txt  \n",
            "  inflating: ChromHMM/CHROMSIZES/danRer7.txt  \n",
            "  inflating: ChromHMM/CHROMSIZES/dm3.txt  \n",
            "  inflating: ChromHMM/CHROMSIZES/dm6.txt  \n",
            "  inflating: ChromHMM/CHROMSIZES/hg18.txt  \n",
            "  inflating: ChromHMM/CHROMSIZES/hg19.txt  \n",
            "  inflating: ChromHMM/CHROMSIZES/hg38.txt  \n",
            "  inflating: ChromHMM/CHROMSIZES/hs1.txt  \n",
            "  inflating: ChromHMM/CHROMSIZES/mm10.txt  \n",
            "  inflating: ChromHMM/CHROMSIZES/mm39.txt  \n",
            "  inflating: ChromHMM/CHROMSIZES/mm9.txt  \n",
            "  inflating: ChromHMM/CHROMSIZES/rn5.txt  \n",
            "  inflating: ChromHMM/CHROMSIZES/rn6.txt  \n",
            "   creating: ChromHMM/COORDS/\n",
            "   creating: ChromHMM/COORDS/ce10/\n",
            "  inflating: ChromHMM/COORDS/ce10/RefSeqExon.ce10.bed.gz  \n",
            "  inflating: ChromHMM/COORDS/ce10/RefSeqGene.ce10.bed.gz  \n",
            "  inflating: ChromHMM/COORDS/ce10/RefSeqTES.ce10.bed.gz  \n",
            "  inflating: ChromHMM/COORDS/ce10/RefSeqTSS.ce10.bed.gz  \n",
            "  inflating: ChromHMM/COORDS/ce10/RefSeqTSS2kb.ce10.bed.gz  \n",
            "   creating: ChromHMM/COORDS/ce11/\n",
            "  inflating: ChromHMM/COORDS/ce11/RefSeqExon.ce11.bed.gz  \n",
            "  inflating: ChromHMM/COORDS/ce11/RefSeqGene.ce11.bed.gz  \n",
            "  inflating: ChromHMM/COORDS/ce11/RefSeqTES.ce11.bed.gz  \n",
            "  inflating: ChromHMM/COORDS/ce11/RefSeqTSS.ce11.bed.gz  \n",
            "  inflating: ChromHMM/COORDS/ce11/RefSeqTSS2kb.ce11.bed.gz  \n",
            "   creating: ChromHMM/COORDS/ce6/\n",
            "  inflating: ChromHMM/COORDS/ce6/RefSeqExon.ce6.bed.gz  \n",
            "  inflating: ChromHMM/COORDS/ce6/RefSeqGene.ce6.bed.gz  \n",
            "  inflating: ChromHMM/COORDS/ce6/RefSeqTES.ce6.bed.gz  \n",
            "  inflating: ChromHMM/COORDS/ce6/RefSeqTSS.ce6.bed.gz  \n",
            "  inflating: ChromHMM/COORDS/ce6/RefSeqTSS2kb.ce6.bed.gz  \n",
            "   creating: ChromHMM/COORDS/danRer10/\n",
            "  inflating: ChromHMM/COORDS/danRer10/RefSeqExon.danRer10.bed.gz  \n",
            "  inflating: ChromHMM/COORDS/danRer10/RefSeqGene.danRer10.bed.gz  \n",
            "  inflating: ChromHMM/COORDS/danRer10/RefSeqTES.danRer10.bed.gz  \n",
            "  inflating: ChromHMM/COORDS/danRer10/RefSeqTSS.danRer10.bed.gz  \n",
            "  inflating: ChromHMM/COORDS/danRer10/RefSeqTSS2kb.danRer10.bed.gz  \n",
            "   creating: ChromHMM/COORDS/danRer11/\n",
            "  inflating: ChromHMM/COORDS/danRer11/RefSeqExon.danRer11.bed.gz  \n",
            "  inflating: ChromHMM/COORDS/danRer11/RefSeqGene.danRer11.bed.gz  \n",
            "  inflating: ChromHMM/COORDS/danRer11/RefSeqTES.danRer11.bed.gz  \n",
            "  inflating: ChromHMM/COORDS/danRer11/RefSeqTSS.danRer11.bed.gz  \n",
            "  inflating: ChromHMM/COORDS/danRer11/RefSeqTSS2kb.danRer11.bed.gz  \n",
            "   creating: ChromHMM/COORDS/danRer7/\n",
            "  inflating: ChromHMM/COORDS/danRer7/RefSeqExon.danRer7.bed.gz  \n",
            "  inflating: ChromHMM/COORDS/danRer7/RefSeqGene.danRer7.bed.gz  \n",
            "  inflating: ChromHMM/COORDS/danRer7/RefSeqTES.danRer7.bed.gz  \n",
            "  inflating: ChromHMM/COORDS/danRer7/RefSeqTSS.danRer7.bed.gz  \n",
            "  inflating: ChromHMM/COORDS/danRer7/RefSeqTSS2kb.danRer7.bed.gz  \n",
            "   creating: ChromHMM/COORDS/dm3/\n",
            "  inflating: ChromHMM/COORDS/dm3/RefSeqExon.dm3.bed.gz  \n",
            "  inflating: ChromHMM/COORDS/dm3/RefSeqGene.dm3.bed.gz  \n",
            "  inflating: ChromHMM/COORDS/dm3/RefSeqTES.dm3.bed.gz  \n",
            "  inflating: ChromHMM/COORDS/dm3/RefSeqTSS.dm3.bed.gz  \n",
            "  inflating: ChromHMM/COORDS/dm3/RefSeqTSS2kb.dm3.bed.gz  \n",
            "   creating: ChromHMM/COORDS/dm6/\n",
            "  inflating: ChromHMM/COORDS/dm6/RefSeqExon.dm6.bed.gz  \n",
            "  inflating: ChromHMM/COORDS/dm6/RefSeqGene.dm6.bed.gz  \n",
            "  inflating: ChromHMM/COORDS/dm6/RefSeqTES.dm6.bed.gz  \n",
            "  inflating: ChromHMM/COORDS/dm6/RefSeqTSS.dm6.bed.gz  \n",
            "  inflating: ChromHMM/COORDS/dm6/RefSeqTSS2kb.dm6.bed.gz  \n",
            "   creating: ChromHMM/COORDS/hg18/\n",
            "  inflating: ChromHMM/COORDS/hg18/CpGIsland.hg18.bed.gz  \n",
            " extracting: ChromHMM/COORDS/hg18/laminB1lads.hg18.bed.gz  \n",
            "  inflating: ChromHMM/COORDS/hg18/RefSeqExon.hg18.bed.gz  \n",
            "  inflating: ChromHMM/COORDS/hg18/RefSeqGene.hg18.bed.gz  \n",
            "  inflating: ChromHMM/COORDS/hg18/RefSeqTES.hg18.bed.gz  \n",
            "  inflating: ChromHMM/COORDS/hg18/RefSeqTSS.hg18.bed.gz  \n",
            "  inflating: ChromHMM/COORDS/hg18/RefSeqTSS2kb.hg18.bed.gz  \n",
            "   creating: ChromHMM/COORDS/hg19/\n",
            "  inflating: ChromHMM/COORDS/hg19/CpGIsland.hg19.bed.gz  \n",
            " extracting: ChromHMM/COORDS/hg19/laminB1lads.hg19.bed.gz  \n",
            "  inflating: ChromHMM/COORDS/hg19/RefSeqExon.hg19.bed.gz  \n",
            "  inflating: ChromHMM/COORDS/hg19/RefSeqGene.hg19.bed.gz  \n",
            "  inflating: ChromHMM/COORDS/hg19/RefSeqTES.hg19.bed.gz  \n",
            "  inflating: ChromHMM/COORDS/hg19/RefSeqTSS.hg19.bed.gz  \n",
            "  inflating: ChromHMM/COORDS/hg19/RefSeqTSS2kb.hg19.bed.gz  \n",
            "   creating: ChromHMM/COORDS/hg38/\n",
            "  inflating: ChromHMM/COORDS/hg38/CpGIsland.hg38.bed.gz  \n",
            "  inflating: ChromHMM/COORDS/hg38/RefSeqExon.hg38.bed.gz  \n",
            "  inflating: ChromHMM/COORDS/hg38/RefSeqGene.hg38.bed.gz  \n",
            "  inflating: ChromHMM/COORDS/hg38/RefSeqTES.hg38.bed.gz  \n",
            "  inflating: ChromHMM/COORDS/hg38/RefSeqTSS.hg38.bed.gz  \n",
            "  inflating: ChromHMM/COORDS/hg38/RefSeqTSS2kb.hg38.bed.gz  \n",
            "   creating: ChromHMM/COORDS/hs1/\n",
            "  inflating: ChromHMM/COORDS/hs1/CpGIsland.hs1.bed.gz  \n",
            "  inflating: ChromHMM/COORDS/hs1/RefSeqExon.hs1.bed.gz  \n",
            "  inflating: ChromHMM/COORDS/hs1/RefSeqGene.hs1.bed.gz  \n",
            "  inflating: ChromHMM/COORDS/hs1/RefSeqTES.hs1.bed.gz  \n",
            "  inflating: ChromHMM/COORDS/hs1/RefSeqTSS.hs1.bed.gz  \n",
            "  inflating: ChromHMM/COORDS/hs1/RefSeqTSS2kb.hs1.bed.gz  \n",
            "   creating: ChromHMM/COORDS/mm10/\n",
            "  inflating: ChromHMM/COORDS/mm10/CpGIsland.mm10.bed.gz  \n",
            "  inflating: ChromHMM/COORDS/mm10/RefSeqExon.mm10.bed.gz  \n",
            "  inflating: ChromHMM/COORDS/mm10/RefSeqGene.mm10.bed.gz  \n",
            "  inflating: ChromHMM/COORDS/mm10/RefSeqTES.mm10.bed.gz  \n",
            "  inflating: ChromHMM/COORDS/mm10/RefSeqTSS.mm10.bed.gz  \n",
            "  inflating: ChromHMM/COORDS/mm10/RefSeqTSS2kb.mm10.bed.gz  \n",
            "   creating: ChromHMM/COORDS/mm39/\n",
            "  inflating: ChromHMM/COORDS/mm39/CpGIsland.mm39.bed.gz  \n",
            "  inflating: ChromHMM/COORDS/mm39/RefSeqExon.mm39.bed.gz  \n",
            "  inflating: ChromHMM/COORDS/mm39/RefSeqGene.mm39.bed.gz  \n",
            "  inflating: ChromHMM/COORDS/mm39/RefSeqTES.mm39.bed.gz  \n",
            "  inflating: ChromHMM/COORDS/mm39/RefSeqTSS.mm39.bed.gz  \n",
            "  inflating: ChromHMM/COORDS/mm39/RefSeqTSS2kb.mm39.bed.gz  \n",
            "   creating: ChromHMM/COORDS/mm9/\n",
            "  inflating: ChromHMM/COORDS/mm9/CpGIsland.mm9.bed.gz  \n",
            "  inflating: ChromHMM/COORDS/mm9/RefSeqExon.mm9.bed.gz  \n",
            "  inflating: ChromHMM/COORDS/mm9/RefSeqGene.mm9.bed.gz  \n",
            "  inflating: ChromHMM/COORDS/mm9/RefSeqTES.mm9.bed.gz  \n",
            "  inflating: ChromHMM/COORDS/mm9/RefSeqTSS.mm9.bed.gz  \n",
            "  inflating: ChromHMM/COORDS/mm9/RefSeqTSS2kb.mm9.bed.gz  \n",
            "   creating: ChromHMM/COORDS/rn5/\n",
            "  inflating: ChromHMM/COORDS/rn5/CpGIsland.rn5.bed.gz  \n",
            "  inflating: ChromHMM/COORDS/rn5/RefSeqExon.rn5.bed.gz  \n",
            "  inflating: ChromHMM/COORDS/rn5/RefSeqGene.rn5.bed.gz  \n",
            "  inflating: ChromHMM/COORDS/rn5/RefSeqTES.rn5.bed.gz  \n",
            "  inflating: ChromHMM/COORDS/rn5/RefSeqTSS.rn5.bed.gz  \n",
            "  inflating: ChromHMM/COORDS/rn5/RefSeqTSS2kb.rn5.bed.gz  \n",
            "   creating: ChromHMM/COORDS/rn6/\n",
            "  inflating: ChromHMM/COORDS/rn6/CpGIsland.rn6.bed.gz  \n",
            "  inflating: ChromHMM/COORDS/rn6/RefSeqExon.rn6.bed.gz  \n",
            "  inflating: ChromHMM/COORDS/rn6/RefSeqGene.rn6.bed.gz  \n",
            "  inflating: ChromHMM/COORDS/rn6/RefSeqTES.rn6.bed.gz  \n",
            "  inflating: ChromHMM/COORDS/rn6/RefSeqTSS.rn6.bed.gz  \n",
            "  inflating: ChromHMM/COORDS/rn6/RefSeqTSS2kb.rn6.bed.gz  \n",
            "   creating: ChromHMM/SAMPLEDATA_HG18/\n",
            "  inflating: ChromHMM/SAMPLEDATA_HG18/GM12878_chr11_binary.txt.gz  \n",
            "  inflating: ChromHMM/SAMPLEDATA_HG18/K562_chr11_binary.txt.gz  \n",
            "   creating: ChromHMM/SRC/\n",
            "   creating: ChromHMM/SRC/edu/\n",
            "   creating: ChromHMM/SRC/edu/mit/\n",
            "   creating: ChromHMM/SRC/edu/mit/compbio/\n",
            "   creating: ChromHMM/SRC/edu/mit/compbio/ChromHMM/\n",
            "  inflating: ChromHMM/SRC/edu/mit/compbio/ChromHMM/BrowserOutput.java  \n",
            "  inflating: ChromHMM/SRC/edu/mit/compbio/ChromHMM/ChromHMM.java  \n",
            "  inflating: ChromHMM/SRC/edu/mit/compbio/ChromHMM/ConvertGeneTable.java  \n",
            "  inflating: ChromHMM/SRC/edu/mit/compbio/ChromHMM/NestedEliminateInitialize.java  \n",
            "  inflating: ChromHMM/SRC/edu/mit/compbio/ChromHMM/Preprocessing.java  \n",
            "  inflating: ChromHMM/SRC/edu/mit/compbio/ChromHMM/StateAnalysis.java  \n",
            "  inflating: ChromHMM/SRC/edu/mit/compbio/ChromHMM/Util.java  \n",
            "   creating: ChromHMM/SRC/org/\n",
            "   creating: ChromHMM/SRC/org/tc33/\n",
            "   creating: ChromHMM/SRC/org/tc33/jheatchart/\n",
            "  inflating: ChromHMM/SRC/org/tc33/jheatchart/HeatChart.java  \n",
            "  inflating: ChromHMM/versionlog.txt  \n"
          ]
        }
      ]
    },
    {
      "cell_type": "markdown",
      "source": [
        "Скачиваем файлы"
      ],
      "metadata": {
        "id": "DSmZmeqqlKu-"
      }
    },
    {
      "cell_type": "code",
      "source": [
        "paths = [\n",
        "         \"http://hgdownload.cse.ucsc.edu/goldenPath/hg19/encodeDCC/wgEncodeBroadHistone/wgEncodeBroadHistoneNhekControlStdAlnRep1.bam\",\n",
        "         \"http://hgdownload.cse.ucsc.edu/goldenPath/hg19/encodeDCC/wgEncodeBroadHistone/wgEncodeBroadHistoneNhekH3k9acStdAlnRep1.bam\",\n",
        "         \"http://hgdownload.cse.ucsc.edu/goldenPath/hg19/encodeDCC/wgEncodeBroadHistone/wgEncodeBroadHistoneNhekH3k4me1StdAlnRep1.bam\",\n",
        "         \"http://hgdownload.cse.ucsc.edu/goldenPath/hg19/encodeDCC/wgEncodeBroadHistone/wgEncodeBroadHistoneNhekH3k36me3StdAlnRep1.bam\",\n",
        "         \"http://hgdownload.cse.ucsc.edu/goldenPath/hg19/encodeDCC/wgEncodeBroadHistone/wgEncodeBroadHistoneNhekCtcfStdAlnRep1.bam\",\n",
        "         \"http://hgdownload.cse.ucsc.edu/goldenPath/hg19/encodeDCC/wgEncodeBroadHistone/wgEncodeBroadHistoneNhekH3k27me3StdAlnRep1.bam\",\n",
        "         \"http://hgdownload.cse.ucsc.edu/goldenPath/hg19/encodeDCC/wgEncodeBroadHistone/wgEncodeBroadHistoneNhekH3k36me3StdAlnRep1.bam\",\n",
        "         \"http://hgdownload.cse.ucsc.edu/goldenPath/hg19/encodeDCC/wgEncodeBroadHistone/wgEncodeBroadHistoneNhekH3k4me2StdAlnRep1.bam\",\n",
        "         \"http://hgdownload.cse.ucsc.edu/goldenPath/hg19/encodeDCC/wgEncodeBroadHistone/wgEncodeBroadHistoneNhekH2azStdAlnRep1.bam\",\n",
        "         \"http://hgdownload.cse.ucsc.edu/goldenPath/hg19/encodeDCC/wgEncodeBroadHistone/wgEncodeBroadHistoneNhekH4k20me1AlnRep1.bam\",\n",
        "         \"http://hgdownload.cse.ucsc.edu/goldenPath/hg19/encodeDCC/wgEncodeBroadHistone/wgEncodeBroadHistoneNhekPol2bAStdAlnRep1.bam\",\n",
        "  \n",
        "]\n",
        "\n",
        "names = []\n",
        "for path in paths:\n",
        "  if 'Std' in path:\n",
        "    names.append(path[path.find(\"Nhek\")+4:path.find(\"Std\")] + \".bam\")\n",
        "  else:\n",
        "    names.append(path[path.find(\"Nhek\")+4:path.find(\"Aln\")] + \".bam\")\n",
        "names"
      ],
      "metadata": {
        "colab": {
          "base_uri": "https://localhost:8080/"
        },
        "id": "4xVimA60lK7p",
        "outputId": "d0864d64-e474-4ff9-f38a-d0ace21e654f"
      },
      "execution_count": 9,
      "outputs": [
        {
          "output_type": "execute_result",
          "data": {
            "text/plain": [
              "['Control.bam',\n",
              " 'H3k9ac.bam',\n",
              " 'H3k4me1.bam',\n",
              " 'H3k36me3.bam',\n",
              " 'Ctcf.bam',\n",
              " 'H3k27me3.bam',\n",
              " 'H3k36me3.bam',\n",
              " 'H3k4me2.bam',\n",
              " 'H2az.bam',\n",
              " 'H4k20me1.bam',\n",
              " 'Pol2bA.bam']"
            ]
          },
          "metadata": {},
          "execution_count": 9
        }
      ]
    },
    {
      "cell_type": "code",
      "source": [
        "for i in range(len(paths)):\n",
        "  subprocess.call(f\"wget {paths[i]} -O {names[i]}\", shell = True)\n",
        "  print(f' {paths[i]} -O {names[i]}')"
      ],
      "metadata": {
        "colab": {
          "base_uri": "https://localhost:8080/"
        },
        "id": "LwB4gL01nqoj",
        "outputId": "f00af813-ad2e-49d3-9fb4-0433f68c5456"
      },
      "execution_count": 10,
      "outputs": [
        {
          "output_type": "stream",
          "name": "stdout",
          "text": [
            " http://hgdownload.cse.ucsc.edu/goldenPath/hg19/encodeDCC/wgEncodeBroadHistone/wgEncodeBroadHistoneNhekControlStdAlnRep1.bam -O Control.bam\n",
            " http://hgdownload.cse.ucsc.edu/goldenPath/hg19/encodeDCC/wgEncodeBroadHistone/wgEncodeBroadHistoneNhekH3k9acStdAlnRep1.bam -O H3k9ac.bam\n",
            " http://hgdownload.cse.ucsc.edu/goldenPath/hg19/encodeDCC/wgEncodeBroadHistone/wgEncodeBroadHistoneNhekH3k4me1StdAlnRep1.bam -O H3k4me1.bam\n",
            " http://hgdownload.cse.ucsc.edu/goldenPath/hg19/encodeDCC/wgEncodeBroadHistone/wgEncodeBroadHistoneNhekH3k36me3StdAlnRep1.bam -O H3k36me3.bam\n",
            " http://hgdownload.cse.ucsc.edu/goldenPath/hg19/encodeDCC/wgEncodeBroadHistone/wgEncodeBroadHistoneNhekCtcfStdAlnRep1.bam -O Ctcf.bam\n",
            " http://hgdownload.cse.ucsc.edu/goldenPath/hg19/encodeDCC/wgEncodeBroadHistone/wgEncodeBroadHistoneNhekH3k27me3StdAlnRep1.bam -O H3k27me3.bam\n",
            " http://hgdownload.cse.ucsc.edu/goldenPath/hg19/encodeDCC/wgEncodeBroadHistone/wgEncodeBroadHistoneNhekH3k36me3StdAlnRep1.bam -O H3k36me3.bam\n",
            " http://hgdownload.cse.ucsc.edu/goldenPath/hg19/encodeDCC/wgEncodeBroadHistone/wgEncodeBroadHistoneNhekH3k4me2StdAlnRep1.bam -O H3k4me2.bam\n",
            " http://hgdownload.cse.ucsc.edu/goldenPath/hg19/encodeDCC/wgEncodeBroadHistone/wgEncodeBroadHistoneNhekH2azStdAlnRep1.bam -O H2az.bam\n",
            " http://hgdownload.cse.ucsc.edu/goldenPath/hg19/encodeDCC/wgEncodeBroadHistone/wgEncodeBroadHistoneNhekH4k20me1AlnRep1.bam -O H4k20me1.bam\n",
            " http://hgdownload.cse.ucsc.edu/goldenPath/hg19/encodeDCC/wgEncodeBroadHistone/wgEncodeBroadHistoneNhekPol2bAStdAlnRep1.bam -O Pol2bA.bam\n"
          ]
        }
      ]
    },
    {
      "cell_type": "markdown",
      "source": [
        "Вручную создаем текстовый файл cellmarkfiletable.txt, в котором указываем название типа клеток, разных гистоновых меток, а также соответствующие .bam файлы для эксперимента и контроля. Один и тот же контрольный файл .bam может быть использован для всех экспериментов.\n",
        "\n",
        "Файл cellmarkfiletable.txt добавляем в github репозиторий для отчета"
      ],
      "metadata": {
        "id": "8ohKWCfApEt1"
      }
    },
    {
      "cell_type": "code",
      "source": [
        "!java -mx5000M -jar /content/ChromHMM/ChromHMM.jar BinarizeBam -b 200  /content/ChromHMM/CHROMSIZES/hg19.txt /content/ cellmarkfiletable.txt  binarizedData\n"
      ],
      "metadata": {
        "colab": {
          "base_uri": "https://localhost:8080/"
        },
        "id": "GcVBvuQZfzb8",
        "outputId": "b791ccae-2d26-461c-abb0-8d2f9816902a"
      },
      "execution_count": 28,
      "outputs": [
        {
          "output_type": "stream",
          "name": "stdout",
          "text": [
            "WARNING not able to load any data for NHEK\tH2AZ. Check if the chromosome naming is consistent between the chromosome length files and the bam files.\n",
            "WARNING not able to load any data for NHEK\tH4K20me1. Check if the chromosome naming is consistent between the chromosome length files and the bam files.\n",
            "WARNING not able to load any data for NHEK\tPOL2BA. Check if the chromosome naming is consistent between the chromosome length files and the bam files.\n",
            "Writing to file binarizedData/NHEK_chr1_binary.txt\n",
            "Writing to file binarizedData/NHEK_chr2_binary.txt\n",
            "Writing to file binarizedData/NHEK_chr3_binary.txt\n",
            "Writing to file binarizedData/NHEK_chr4_binary.txt\n",
            "Writing to file binarizedData/NHEK_chr5_binary.txt\n",
            "Writing to file binarizedData/NHEK_chr6_binary.txt\n",
            "Writing to file binarizedData/NHEK_chr7_binary.txt\n",
            "Writing to file binarizedData/NHEK_chrX_binary.txt\n",
            "Writing to file binarizedData/NHEK_chr8_binary.txt\n",
            "Writing to file binarizedData/NHEK_chr9_binary.txt\n",
            "Writing to file binarizedData/NHEK_chr10_binary.txt\n",
            "Writing to file binarizedData/NHEK_chr11_binary.txt\n",
            "Writing to file binarizedData/NHEK_chr12_binary.txt\n",
            "Writing to file binarizedData/NHEK_chr13_binary.txt\n",
            "Writing to file binarizedData/NHEK_chr14_binary.txt\n",
            "Writing to file binarizedData/NHEK_chr15_binary.txt\n",
            "Writing to file binarizedData/NHEK_chr16_binary.txt\n",
            "Writing to file binarizedData/NHEK_chr17_binary.txt\n",
            "Writing to file binarizedData/NHEK_chr18_binary.txt\n",
            "Writing to file binarizedData/NHEK_chr20_binary.txt\n",
            "Writing to file binarizedData/NHEK_chr19_binary.txt\n",
            "Writing to file binarizedData/NHEK_chr22_binary.txt\n",
            "Writing to file binarizedData/NHEK_chr21_binary.txt\n",
            "Writing to file binarizedData/NHEK_chrM_binary.txt\n"
          ]
        }
      ]
    },
    {
      "cell_type": "markdown",
      "source": [
        "Запускаем ChromHMM с опцией LearnModel (см. руководство пользователя), которая автоматически определит параметры N разных эпигенетических типов с наиболее выраженными наборами гистоновых меток и присвоит каждому геномному интервалу определенный эпигенетический тип. Количество разных эпигенетических типов (или состояний) выбираете сами (например 10 штук). Не забудьте, что мы работаем с версией референсного генома человека hg19 Для 11 меток программа работает около 10 минут"
      ],
      "metadata": {
        "id": "ZLlcrFkhS2R1"
      }
    },
    {
      "cell_type": "code",
      "source": [
        "!java -mx5000M -jar /content/ChromHMM/ChromHMM.jar LearnModel binarizedData Output 10 hg19"
      ],
      "metadata": {
        "colab": {
          "base_uri": "https://localhost:8080/"
        },
        "id": "RJzjkS4bQ1xa",
        "outputId": "1777e146-60fe-4884-f2e9-19a5704051ac"
      },
      "execution_count": 30,
      "outputs": [
        {
          "output_type": "stream",
          "name": "stdout",
          "text": [
            "Writing to file Output/transitions_10.txt\n",
            "Writing to file Output/emissions_10.txt\n",
            "Writing to file Output/emissions_10.svg\n",
            "Writing to file Output/emissions_10.png\n",
            "Writing to file Output/transitions_10.png\n",
            "Writing to file Output/transitions_10.svg\n",
            "Writing to file Output/model_10.txt\n",
            " Iteration  Estimated Log Likelihood     Change    Total Time (secs)\n",
            "         1              -6470589.272          -                 21.2\n",
            "         2              -5299212.164 1171377.108                 35.1\n",
            "         3              -5137545.871 161666.293                 46.4\n",
            "         4              -5015319.464 122226.408                 57.2\n",
            "         5              -4939028.185  76291.279                 67.9\n",
            "         6              -4905548.391  33479.794                 77.6\n",
            "         7              -4893455.360  12093.030                 88.2\n",
            "         8              -4889018.672   4436.688                102.7\n",
            "         9              -4887079.753   1938.919                114.5\n",
            "        10              -4886031.130   1048.623                126.2\n",
            "        11              -4885366.372    664.758                142.3\n",
            "        12              -4884904.134    462.238                154.1\n",
            "        13              -4884566.583    337.551                165.8\n",
            "        14              -4884313.414    253.169                177.5\n",
            "        15              -4884120.212    193.201                189.1\n",
            "        16              -4883970.620    149.592                200.9\n",
            "        17              -4883853.126    117.494                212.5\n",
            "        18              -4883759.471     93.655                223.2\n",
            "        19              -4883683.686     75.785                234.7\n",
            "        20              -4883621.437     62.249                246.4\n",
            "        21              -4883569.556     51.881                258.1\n",
            "        22              -4883525.711     43.844                269.8\n",
            "        23              -4883488.174     37.537                281.6\n",
            "        24              -4883455.647     32.528                303.9\n",
            "        25              -4883427.148     28.498                315.8\n",
            "        26              -4883401.927     25.222                327.9\n",
            "        27              -4883379.401     22.526                339.2\n",
            "        28              -4883359.113     20.288                350.7\n",
            "        29              -4883340.701     18.412                362.6\n",
            "        30              -4883323.871     16.829                374.6\n",
            "        31              -4883308.386     15.485                386.6\n",
            "        32              -4883294.046     14.340                398.7\n",
            "        33              -4883280.683     13.363                410.8\n",
            "        34              -4883268.154     12.529                422.7\n",
            "        35              -4883256.337     11.817                434.8\n",
            "        36              -4883245.125     11.212                446.9\n",
            "        37              -4883234.425     10.700                459.2\n",
            "        38              -4883224.156     10.269                471.3\n",
            "        39              -4883214.242      9.914                485.3\n",
            "        40              -4883204.613      9.629                497.5\n",
            "        41              -4883195.203      9.410                509.4\n",
            "        42              -4883185.946      9.258                520.7\n",
            "        43              -4883176.779      9.167                532.4\n",
            "        44              -4883167.639      9.139                544.4\n",
            "        45              -4883158.467      9.172                556.6\n",
            "        46              -4883149.203      9.264                568.6\n",
            "        47              -4883139.792      9.411                580.7\n",
            "        48              -4883130.183      9.609                592.8\n",
            "        49              -4883120.331      9.852                604.9\n",
            "        50              -4883110.197     10.133                617.0\n",
            "        51              -4883099.756     10.442                629.1\n",
            "        52              -4883088.994     10.762                641.3\n",
            "        53              -4883077.917     11.077                653.3\n",
            "        54              -4883066.552     11.364                665.5\n",
            "        55              -4883054.954     11.598                677.6\n",
            "        56              -4883043.204     11.750                689.6\n",
            "        57              -4883031.410     11.794                701.5\n",
            "        58              -4883019.704     11.706                712.9\n",
            "        59              -4883008.232     11.472                724.6\n",
            "        60              -4882997.146     11.086                736.7\n",
            "        61              -4882986.582     10.564                759.4\n",
            "        62              -4882976.668      9.913                773.2\n",
            "        63              -4882967.483      9.185                787.3\n",
            "        64              -4882959.077      8.407                801.2\n",
            "        65              -4882951.460      7.616                815.1\n",
            "        66              -4882944.613      6.847                829.8\n",
            "        67              -4882938.487      6.126                844.1\n",
            "        68              -4882933.020      5.467                857.9\n",
            "        69              -4882928.139      4.881                872.4\n",
            "        70              -4882923.769      4.369                886.3\n",
            "        71              -4882919.839      3.930                900.2\n",
            "        72              -4882916.280      3.559                914.0\n",
            "        73              -4882913.028      3.252                928.1\n",
            "        74              -4882910.027      3.001                942.0\n",
            "        75              -4882907.225      2.802                955.9\n",
            "        76              -4882904.576      2.649                970.5\n",
            "        77              -4882902.038      2.538                985.0\n",
            "        78              -4882899.575      2.463                998.9\n",
            "        79              -4882897.157      2.418               1012.7\n",
            "        80              -4882894.758      2.399               1026.6\n",
            "        81              -4882892.360      2.398               1040.5\n",
            "        82              -4882889.946      2.413               1055.8\n",
            "        83              -4882887.503      2.443               1069.6\n",
            "        84              -4882885.013      2.490               1083.7\n",
            "        85              -4882882.450      2.563               1096.9\n",
            "        86              -4882879.775      2.674               1110.2\n",
            "        87              -4882876.933      2.842               1123.5\n",
            "        88              -4882873.843      3.090               1136.9\n",
            "        89              -4882870.391      3.452               1150.2\n",
            "        90              -4882866.412      3.978               1163.5\n",
            "        91              -4882861.662      4.751               1176.7\n",
            "        92              -4882855.753      5.908               1189.9\n",
            "        93              -4882848.044      7.709               1203.0\n",
            "        94              -4882837.385     10.659               1216.0\n",
            "        95              -4882821.528     15.857               1229.2\n",
            "        96              -4882795.536     25.992               1242.3\n",
            "        97              -4882746.705     48.831               1255.5\n",
            "        98              -4882633.905    112.800               1268.6\n",
            "        99              -4882262.674    371.231               1281.8\n",
            "       100              -4880192.259   2070.415               1294.8\n",
            "       101              -4874059.279   6132.979               1307.9\n",
            "       102              -4868404.322   5654.958               1321.0\n",
            "       103              -4864783.013   3621.308               1334.1\n",
            "       104              -4862419.859   2363.155               1347.3\n",
            "       105              -4860861.574   1558.285               1360.4\n",
            "       106              -4859821.530   1040.044               1373.9\n",
            "       107              -4859114.844    706.686               1387.1\n",
            "       108              -4858624.917    489.927               1400.2\n",
            "       109              -4858278.505    346.413               1413.4\n",
            "       110              -4858029.134    249.370               1426.5\n",
            "       111              -4857846.809    182.325               1439.6\n",
            "       112              -4857711.772    135.037               1452.7\n",
            "       113              -4857610.734    101.039               1465.9\n",
            "       114              -4857534.563     76.171               1479.0\n",
            "       115              -4857476.851     57.712               1492.1\n",
            "       116              -4857433.001     43.850               1505.2\n",
            "       117              -4857399.649     33.352               1518.3\n",
            "       118              -4857374.290     25.359               1531.4\n",
            "       119              -4857355.031     19.259               1544.7\n",
            "       120              -4857340.428     14.603               1558.2\n",
            "       121              -4857329.374     11.054               1571.5\n",
            "       122              -4857321.021      8.353               1585.1\n",
            "       123              -4857314.716      6.305               1598.6\n",
            "       124              -4857309.960      4.755               1616.2\n",
            "       125              -4857306.374      3.586               1629.2\n",
            "       126              -4857303.668      2.706               1643.7\n",
            "       127              -4857301.624      2.044               1657.0\n",
            "       128              -4857300.076      1.548               1670.1\n",
            "       129              -4857298.901      1.175               1683.2\n",
            "       130              -4857298.005      0.896               1696.3\n",
            "       131              -4857297.318      0.687               1709.6\n",
            "       132              -4857296.788      0.530               1722.7\n",
            "       133              -4857296.376      0.412               1735.8\n",
            "       134              -4857296.053      0.323               1748.9\n",
            "       135              -4857295.797      0.256               1762.0\n",
            "       136              -4857295.591      0.205               1775.2\n",
            "       137              -4857295.425      0.167               1788.4\n",
            "       138              -4857295.288      0.137               1801.4\n",
            "       139              -4857295.173      0.114               1814.5\n",
            "       140              -4857295.077      0.097               1827.6\n",
            "       141              -4857294.994      0.083               1840.8\n",
            "       142              -4857294.922      0.072               1853.9\n",
            "       143              -4857294.858      0.064               1867.2\n",
            "       144              -4857294.801      0.057               1880.7\n",
            "       145              -4857294.750      0.051               1894.4\n",
            "       146              -4857294.704      0.046               1907.8\n",
            "       147              -4857294.662      0.042               1920.9\n",
            "       148              -4857294.623      0.039               1934.0\n",
            "       149              -4857294.586      0.036               1947.1\n",
            "       150              -4857294.553      0.034               1960.3\n",
            "       151              -4857294.521      0.032               1973.4\n",
            "       152              -4857294.491      0.030               1986.5\n",
            "       153              -4857294.463      0.028               1999.6\n",
            "       154              -4857294.437      0.027               2012.8\n",
            "       155              -4857294.412      0.025               2025.9\n",
            "       156              -4857294.388      0.024               2039.0\n",
            "       157              -4857294.366      0.023               2052.1\n",
            "       158              -4857294.344      0.021               2065.2\n",
            "       159              -4857294.324      0.020               2078.4\n",
            "       160              -4857294.305      0.019               2091.6\n",
            "       161              -4857294.286      0.019               2104.7\n",
            "       162              -4857294.268      0.018               2117.8\n",
            "       163              -4857294.251      0.017               2130.9\n",
            "       164              -4857294.235      0.016               2144.0\n",
            "       165              -4857294.219      0.016               2157.1\n",
            "       166              -4857294.205      0.015               2170.1\n",
            "       167              -4857294.190      0.014               2183.2\n",
            "       168              -4857294.177      0.014               2196.3\n",
            "       169              -4857294.164      0.013               2209.4\n",
            "       170              -4857294.151      0.013               2223.8\n",
            "       171              -4857294.139      0.012               2236.9\n",
            "       172              -4857294.127      0.011               2250.1\n",
            "       173              -4857294.116      0.011               2263.1\n",
            "       174              -4857294.105      0.011               2276.6\n",
            "       175              -4857294.095      0.010               2289.9\n",
            "       176              -4857294.085      0.010               2303.3\n",
            "       177              -4857294.076      0.009               2316.5\n",
            "       178              -4857294.066      0.009               2329.9\n",
            "       179              -4857294.058      0.009               2343.2\n",
            "       180              -4857294.049      0.008               2356.4\n",
            "       181              -4857294.041      0.008               2369.5\n",
            "       182              -4857294.033      0.008               2382.6\n",
            "       183              -4857294.025      0.008               2395.7\n",
            "       184              -4857294.018      0.007               2408.8\n",
            "       185              -4857294.011      0.007               2421.9\n",
            "       186              -4857294.004      0.007               2435.0\n",
            "       187              -4857293.998      0.007               2448.1\n",
            "       188              -4857293.991      0.006               2461.1\n",
            "       189              -4857293.985      0.006               2474.3\n",
            "       190              -4857293.979      0.006               2487.4\n",
            "       191              -4857293.973      0.006               2500.5\n",
            "       192              -4857293.968      0.006               2513.7\n",
            "       193              -4857293.962      0.005               2526.7\n",
            "       194              -4857293.957      0.005               2539.9\n",
            "       195              -4857293.952      0.005               2553.0\n",
            "       196              -4857293.947      0.005               2566.2\n",
            "       197              -4857293.943      0.004               2579.3\n",
            "       198              -4857293.938      0.004               2592.4\n",
            "       199              -4857293.934      0.005               2605.5\n",
            "       200              -4857293.930      0.004               2618.6\n",
            "Writing to file Output/NHEK_10_segments.bed\n",
            "Writing to file Output/NHEK_10_dense.bed\n",
            "Writing to file Output/NHEK_10_expanded.bed\n",
            "Writing to file Output/NHEK_10_overlap.txt\n",
            "Writing to file Output/NHEK_10_overlap.png\n",
            "Writing to file Output/NHEK_10_overlap.svg\n",
            "Writing to file Output/NHEK_10_RefSeqTSS_neighborhood.txt\n",
            "Writing to file Output/NHEK_10_RefSeqTSS_neighborhood.png\n",
            "Writing to file Output/NHEK_10_RefSeqTSS_neighborhood.svg\n",
            "Writing to file Output/NHEK_10_RefSeqTES_neighborhood.txt\n",
            "Writing to file Output/NHEK_10_RefSeqTES_neighborhood.png\n",
            "Writing to file Output/NHEK_10_RefSeqTES_neighborhood.svg\n",
            "Warning could not automatically open in a browser Output/webpage_10.html\n"
          ]
        }
      ]
    },
    {
      "cell_type": "code",
      "source": [
        "! tar -cvf output.tar.gz Output"
      ],
      "metadata": {
        "colab": {
          "base_uri": "https://localhost:8080/"
        },
        "id": "5SvrxUkrbbuN",
        "outputId": "9c090b72-b4b6-4898-cfee-2c383aa9d7e0"
      },
      "execution_count": 31,
      "outputs": [
        {
          "output_type": "stream",
          "name": "stdout",
          "text": [
            "Output/\n",
            "Output/emissions_10.svg\n",
            "Output/NHEK_10_RefSeqTES_neighborhood.png\n",
            "Output/webpage_10.html\n",
            "Output/NHEK_10_overlap.svg\n",
            "Output/emissions_10.txt\n",
            "Output/NHEK_10_expanded.bed\n",
            "Output/NHEK_10_RefSeqTES_neighborhood.txt\n",
            "Output/NHEK_10_RefSeqTSS_neighborhood.svg\n",
            "Output/NHEK_10_dense.bed\n",
            "Output/NHEK_10_RefSeqTES_neighborhood.svg\n",
            "Output/transitions_10.txt\n",
            "Output/NHEK_10_RefSeqTSS_neighborhood.txt\n",
            "Output/model_10.txt\n",
            "Output/NHEK_10_RefSeqTSS_neighborhood.png\n",
            "Output/NHEK_10_overlap.png\n",
            "Output/transitions_10.png\n",
            "Output/NHEK_10_segments.bed\n",
            "Output/NHEK_10_overlap.txt\n",
            "Output/transitions_10.svg\n",
            "Output/emissions_10.png\n"
          ]
        }
      ]
    }
  ]
}